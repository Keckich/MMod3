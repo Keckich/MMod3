{
 "cells": [
  {
   "cell_type": "code",
   "execution_count": 1,
   "metadata": {},
   "outputs": [],
   "source": [
    "import numpy as np\n",
    "import random\n",
    "import matplotlib.pyplot as plt\n",
    "import scipy.integrate as intgr\n",
    "import scipy.stats as st"
   ]
  },
  {
   "cell_type": "markdown",
   "metadata": {},
   "source": [
    "## Лабортаторная работа №3 «Имитация систем непрерывных и дискретных случайных величин» "
   ]
  },
  {
   "cell_type": "markdown",
   "metadata": {},
   "source": [
    "### Вариант 2\n",
    "$f(x, y) = 0.5 * sin(x + y)$"
   ]
  },
  {
   "cell_type": "markdown",
   "metadata": {},
   "source": [
    "### 1. Формирование двумерной НСВ"
   ]
  },
  {
   "cell_type": "code",
   "execution_count": 264,
   "metadata": {},
   "outputs": [],
   "source": [
    "left = 0\n",
    "right = np.pi / 2"
   ]
  },
  {
   "cell_type": "code",
   "execution_count": 265,
   "metadata": {},
   "outputs": [],
   "source": [
    "def f(x, y):\n",
    "    return 0.5 * np.sin(x + y)\n",
    "\n",
    "def fx(x, a=left, b=right):\n",
    "    return intgr.quad(lambda y, x: 0.5 * np.sin(x + y), a, b, args=(x,))[0]\n",
    "\n",
    "def fy(y, a=left, b=right):\n",
    "    return intgr.quad(lambda x, y: 0.5 * np.sin(x + y), a, b, args=(y,))[0]"
   ]
  },
  {
   "cell_type": "code",
   "execution_count": 305,
   "metadata": {},
   "outputs": [],
   "source": [
    "f_max = f(left, right)\n",
    "\n",
    "def neumann_method(a, b, f_max, n):\n",
    "    X, Y = [], []\n",
    "    for _ in range(n):\n",
    "        while True:            \n",
    "            x1, y1 = a + random.random() * (b - a), a + random.random() * (b - a)\n",
    "            z = random.random() * f_max\n",
    "\n",
    "            if f(x1, y1) > z:\n",
    "                X.append(x1)\n",
    "                Y.append(y1)\n",
    "                break\n",
    "                \n",
    "    return X, Y"
   ]
  },
  {
   "cell_type": "code",
   "execution_count": 306,
   "metadata": {},
   "outputs": [],
   "source": [
    "n = int(1e3)\n",
    "X, Y = neumann_method(left, right, f_max, n)"
   ]
  },
  {
   "cell_type": "markdown",
   "metadata": {},
   "source": [
    "### 1) Тест на независимость"
   ]
  },
  {
   "cell_type": "markdown",
   "metadata": {},
   "source": [
    "Если $x$ и $y$ независимы, то $f(x, y) = f(x) * f(y)$"
   ]
  },
  {
   "cell_type": "code",
   "execution_count": 299,
   "metadata": {},
   "outputs": [
    {
     "name": "stdout",
     "output_type": "stream",
     "text": [
      "0.0981973637059001\n"
     ]
    }
   ],
   "source": [
    "difference = [abs(f(x, y) - fx(x) * fy(y)) for x, y in zip(X, Y)]\n",
    "print(np.mean(difference))"
   ]
  },
  {
   "cell_type": "markdown",
   "metadata": {},
   "source": [
    "$|f(x, y) - f(x) * f(y)| \\not= 0$, т.е. х и у - зависимы"
   ]
  },
  {
   "cell_type": "markdown",
   "metadata": {},
   "source": [
    "### 2) Условные плотности распределения"
   ]
  },
  {
   "cell_type": "markdown",
   "metadata": {},
   "source": [
    "$f(x|Y = y) = {f(x, y) \\over f(y)}$\n",
    "\n",
    "$f(y|X = x) = {f(x, y) \\over f(x)}$"
   ]
  },
  {
   "cell_type": "code",
   "execution_count": 269,
   "metadata": {},
   "outputs": [],
   "source": [
    "def f_x_y(x, y):\n",
    "    return f(x, y) / fy(y)\n",
    "\n",
    "def f_y_x(x, y):\n",
    "    return f(x, y) / fx(x)"
   ]
  },
  {
   "cell_type": "markdown",
   "metadata": {},
   "source": [
    "### 3) Гистограммы"
   ]
  },
  {
   "cell_type": "code",
   "execution_count": 307,
   "metadata": {},
   "outputs": [
    {
     "data": {
      "image/png": "[encoded data removed]",
      "text/plain": [
       "<Figure size 432x288 with 1 Axes>"
      ]
     },
     "metadata": {
      "needs_background": "light"
     },
     "output_type": "display_data"
    }
   ],
   "source": [
    "arange = np.linspace(left, right, n)\n",
    "plt.hist(X, alpha=0.33, density=True)\n",
    "plt.plot(arange, [fx(x) for x in arange])\n",
    "plt.show()"
   ]
  },
  {
   "cell_type": "code",
   "execution_count": 308,
   "metadata": {},
   "outputs": [
    {
     "data": {
      "image/png": "[encoded data removed]",
      "text/plain": [
       "<Figure size 432x288 with 1 Axes>"
      ]
     },
     "metadata": {
      "needs_background": "light"
     },
     "output_type": "display_data"
    }
   ],
   "source": [
    "arange = np.linspace(left, right, n)\n",
    "plt.hist(Y, alpha=0.33, density=True)\n",
    "plt.plot(arange, [fy(y) for y in arange])\n",
    "plt.show()"
   ]
  },
  {
   "cell_type": "markdown",
   "metadata": {},
   "source": [
    "### 4. Характеристики"
   ]
  },
  {
   "cell_type": "code",
   "execution_count": 272,
   "metadata": {},
   "outputs": [
    {
     "name": "stdout",
     "output_type": "stream",
     "text": [
      "Теоретические значения МО: Mx = 0.7853981633974483, My = 0.7853981633974483\n",
      "Точечные значения МО: Mx = 0.7916006251322569 (integrated python method), 0.7916006251322572;\n",
      "My = 0.791946772902684 (integrated python method), 0.791946772902685\n"
     ]
    }
   ],
   "source": [
    "Mx = intgr.quad(lambda x: x * fx(x), left, right)[0]\n",
    "My = intgr.quad(lambda y: y * fy(y), left, right)[0]\n",
    "Mxy = intgr.dblquad(lambda x, y: x * y * f(x, y), left, right, lambda x: left, lambda x: right)[0]\n",
    "\n",
    "def mean(X):\n",
    "    return sum(X) / len(X)\n",
    "\n",
    "Mx_dot = np.mean(X)\n",
    "My_dot = np.mean(Y)\n",
    "\n",
    "print(f'Теоретические значения МО: Mx = {Mx}, My = {My}')\n",
    "print(f'Точечные значения МО: Mx = {Mx_dot} (integrated python method), {mean(X)};\\n\\\n",
    "My = {My_dot} (integrated python method), {mean(Y)}')"
   ]
  },
  {
   "cell_type": "code",
   "execution_count": 273,
   "metadata": {},
   "outputs": [
    {
     "name": "stdout",
     "output_type": "stream",
     "text": [
      "Теоретические значения дисперсии: Dx = 0.18764660186298154,  Dy = 0.18764660186298154\n",
      "Точечные значения дисперсии: Dx = 0.19572846809613367 (python), 0.1957669386277055; Dy = 0.19123602858536537 (python), 0.19127891287181764\n"
     ]
    }
   ],
   "source": [
    "Dx = intgr.quad(lambda x: x ** 2 * fx(x), left, right)[0] - Mx ** 2\n",
    "Dy = intgr.quad(lambda y: y ** 2 * fy(y), left, right)[0] - My ** 2\n",
    "\n",
    "def var(X, Mx):\n",
    "    return sum([(x - Mx) ** 2 for x in X]) / len(X)\n",
    "\n",
    "Dx_dot = np.var(X)\n",
    "Dy_dot = np.var(Y)\n",
    "\n",
    "print(f'Теоретические значения дисперсии: Dx = {Dx},  Dy = {Dy}')\n",
    "print(f'Точечные значения дисперсии: Dx = {Dx_dot} (python), {var(X, Mx)}; Dy = {Dy_dot} (python), {var(Y, My)}')"
   ]
  },
  {
   "cell_type": "markdown",
   "metadata": {},
   "source": [
    "Точечная оценка корреляции вычисляется по формуле:\n",
    "${\\displaystyle r_{xy}={\\frac {\\sum _{i=1}^{n}(x_{i}-{m_{x}})(y_{i}-{m_{y}})}{{\\sqrt {\\sum _{i=1}^{n}(x_{i}-{m_{x}})^{2}}}{\\sqrt {\\sum _{i=1}^{n}(y_{i}-{m_{y}})^{2}}}}}}$"
   ]
  },
  {
   "cell_type": "code",
   "execution_count": 274,
   "metadata": {},
   "outputs": [],
   "source": [
    "def corr_coef_dot(X, Y, Mx_dot, My_dot):\n",
    "    num = sum([(x - Mx_dot) * (y - My_dot) for x, y in zip(X, Y)])\n",
    "    sum1, sum2 = sum([(x - Mx_dot) ** 2 for x in X]), sum([(y - My_dot) ** 2 for y in Y])\n",
    "    return num / np.sqrt(sum1 * sum2)"
   ]
  },
  {
   "cell_type": "code",
   "execution_count": 275,
   "metadata": {},
   "outputs": [
    {
     "name": "stdout",
     "output_type": "stream",
     "text": [
      "Теоретическое значение коэфф. корреляции: -0.24542916213754049\n",
      "Точечное значение коэфф. корреляции: -0.21282117198607486 (integrated python method) or -0.21282117198607445\n"
     ]
    }
   ],
   "source": [
    "corr_coef = (Mxy - Mx * My) / np.sqrt(Dx * Dy)\n",
    "\n",
    "print(f'Теоретическое значение коэфф. корреляции: {corr_coef}')\n",
    "print(f'Точечное значение коэфф. корреляции: {st.pearsonr(X, Y)[0]} (integrated python method) or \\\n",
    "{corr_coef_dot(X, Y, Mx_dot, My_dot)}')"
   ]
  },
  {
   "cell_type": "code",
   "execution_count": 23,
   "metadata": {},
   "outputs": [
    {
     "name": "stdout",
     "output_type": "stream",
     "text": [
      "Доверительный интервал для Mx: (0.7623768041322448, 0.8337024644208878)\n",
      "Доверительный интервал для My: (0.7637040236613349, 0.8337713416120055)\n"
     ]
    }
   ],
   "source": [
    "print(f'Доверительный интервал для Mx: {st.t.interval(0.99, len(X)-1, loc=Mx_dot, scale=st.sem(X))}')\n",
    "print(f'Доверительный интервал для My: {st.t.interval(0.99, len(Y)-1, loc=My_dot, scale=st.sem(Y))}')"
   ]
  },
  {
   "cell_type": "code",
   "execution_count": 276,
   "metadata": {},
   "outputs": [
    {
     "name": "stdout",
     "output_type": "stream",
     "text": [
      "Доверительный интервал для Dx: (0.034235307671097746, 0.04311673311007552)\n",
      "Доверительный интервал для Dy: (0.032681777827989165, 0.041160181930008324)\n"
     ]
    }
   ],
   "source": [
    "def var_interval(X, Mx, acc):\n",
    "    alpha = 1 - acc\n",
    "    n = len(X) - 1\n",
    "    S = var(X, Mx)\n",
    "    left = (n * S ** 2) / st.chi2.ppf(1 - alpha / 2, df=n)\n",
    "    right = (n * S ** 2) / st.chi2.ppf(alpha / 2, df=n)\n",
    "    return left, right\n",
    "\n",
    "print(f'Доверительный интервал для Dx: {var_interval(X, Mx_dot, 0.99)}')\n",
    "print(f'Доверительный интервал для Dy: {var_interval(Y, My_dot, 0.99)}')"
   ]
  },
  {
   "cell_type": "code",
   "execution_count": 277,
   "metadata": {},
   "outputs": [
    {
     "name": "stdout",
     "output_type": "stream",
     "text": [
      "Доверительный интервал для корреляции: (-0.09397108940671796, -0.09318416333329746)\n"
     ]
    }
   ],
   "source": [
    "def corr_interval(X, Y, Mx, My, acc):\n",
    "    r = corr_coef_dot(X, Y, Mx, My)\n",
    "    z = 0.5 * np.log10((1 + r) / (1 - r)) + (r / (2 * (len(X) - 1)))\n",
    "    se = 1 / np.sqrt(len(X) - 3)\n",
    "    c_acc = st.norm.ppf(1 - acc / 2)\n",
    "    z_left, z_right = z - se * c_acc, z + se * c_acc\n",
    "    return np.tanh(z_left), np.tanh(z_right)\n",
    "\n",
    "print(f'Доверительный интервал для корреляции: {corr_interval(X, Y, Mx, My, 0.99)}')"
   ]
  },
  {
   "cell_type": "markdown",
   "metadata": {},
   "source": [
    "### 2. Формирование двумерной ДСВ"
   ]
  },
  {
   "cell_type": "code",
   "execution_count": 278,
   "metadata": {},
   "outputs": [],
   "source": [
    "P = np.array([[0.02, 0.09, 0.1, 0.09],\n",
    "            [0.08, 0.06, 0.07, 0.05],\n",
    "            [0.07, 0.03, 0.1, 0.06],\n",
    "            [0.03, 0.05, 0.06, 0.04]])\n",
    "\n",
    "X = [1, 2, 3, 4]\n",
    "Y = [5, 6, 7, 8]"
   ]
  },
  {
   "cell_type": "code",
   "execution_count": 279,
   "metadata": {},
   "outputs": [],
   "source": [
    "def dsv_gen(X, Y, P, N):\n",
    "    x, y = [], []\n",
    "    for _ in range(N):\n",
    "        n, m = len(X), len(Y)\n",
    "        q = [sum(P[:, i]) for i in range(n)]\n",
    "        l = [sum(q[:k + 1]) for k in range(n)]\n",
    "        #print(l)\n",
    "\n",
    "        e = random.random()\n",
    "        k = 0  \n",
    "        #print(f'e={e}')\n",
    "        while e > l[k]:\n",
    "            k += 1\n",
    "        #print(e, k)\n",
    "\n",
    "        r = [sum(P[:s + 1, k]) for s in range(m)]\n",
    "        r_norm = [r[i] / max(r) for i in range(m)]\n",
    "        #print(r_norm)\n",
    "\n",
    "        e = random.random()\n",
    "        s = 0    \n",
    "        while e > r_norm[s]:\n",
    "            s += 1\n",
    "        #print(e, s)\n",
    "\n",
    "        x.append(X[k])\n",
    "        y.append(Y[s])\n",
    "    return x, y"
   ]
  },
  {
   "cell_type": "code",
   "execution_count": 288,
   "metadata": {},
   "outputs": [
    {
     "name": "stdout",
     "output_type": "stream",
     "text": [
      "Теоретические значения x, y: [0.2, 0.22999999999999998, 0.33, 0.24000000000000002], [0.30000000000000004, 0.26, 0.26, 0.18000000000000002]\n",
      "Значения x и y, полученные экспериментальным путем: [0.2041, 0.2287, 0.3268, 0.2404], [0.3002, 0.2667, 0.2581, 0.175]\n"
     ]
    }
   ],
   "source": [
    "n = int(1e4)\n",
    "    \n",
    "x, y = dsv_gen(X, Y, P, n)\n",
    "p_x_sum = [sum(P[:, i]) for i in range(len(X))]\n",
    "p_y_sum = [sum(P[i]) for i in range(len(Y))]\n",
    "\n",
    "x_sum = [x.count(x_val) / n for x_val in X]\n",
    "y_sum = [y.count(y_val) / n for y_val in Y]\n",
    "\n",
    "print(f'Теоретические значения x, y: {p_x_sum}, {p_y_sum}')\n",
    "print(f'Значения x и y, полученные экспериментальным путем: {x_sum}, {y_sum}')"
   ]
  },
  {
   "cell_type": "markdown",
   "metadata": {},
   "source": [
    "### 1) Тест на независимость"
   ]
  },
  {
   "cell_type": "code",
   "execution_count": 281,
   "metadata": {},
   "outputs": [
    {
     "name": "stdout",
     "output_type": "stream",
     "text": [
      "0.023100000000000002\n"
     ]
    }
   ],
   "source": [
    "def independence_test(p_x_sum, p_y_sum, P):\n",
    "    difference = []\n",
    "    for i in range(len(p_x_sum)):\n",
    "        for j in range(len(p_y_sum)):\n",
    "            difference.append(abs(P[i][j] - p_x_sum[i] * p_y_sum[j]))\n",
    "    return np.mean(difference)\n",
    "\n",
    "print(independence_test(p_x_sum, p_y_sum, P))"
   ]
  },
  {
   "cell_type": "markdown",
   "metadata": {},
   "source": [
    "$|F(x, y) - F(x)*F(y)| \\not= 0$, т.е. СВ х и у зависимы"
   ]
  },
  {
   "cell_type": "markdown",
   "metadata": {},
   "source": [
    "### 2) Условные вероятности"
   ]
  },
  {
   "cell_type": "code",
   "execution_count": 282,
   "metadata": {},
   "outputs": [
    {
     "name": "stdout",
     "output_type": "stream",
     "text": [
      "[[0.06666667 0.34615385 0.38461538 0.5       ]\n",
      " [0.26666667 0.23076923 0.26923077 0.27777778]\n",
      " [0.23333333 0.11538462 0.38461538 0.33333333]\n",
      " [0.1        0.19230769 0.23076923 0.22222222]]\n",
      "[[0.1        0.45       0.5        0.45      ]\n",
      " [0.34782609 0.26086957 0.30434783 0.2173913 ]\n",
      " [0.21212121 0.09090909 0.3030303  0.18181818]\n",
      " [0.125      0.20833333 0.25       0.16666667]]\n"
     ]
    }
   ],
   "source": [
    "p_xy = np.copy(P)\n",
    "p_yx = np.copy(P)\n",
    "\n",
    "for i in range(len(p_x_sum)):\n",
    "    for j in range(len(p_y_sum)):\n",
    "        p_xy[i][j] /= p_y_sum[j]\n",
    "        p_yx[i][j] /= p_x_sum[i]\n",
    "    \n",
    "print(p_xy)       \n",
    "print(p_yx)"
   ]
  },
  {
   "cell_type": "markdown",
   "metadata": {},
   "source": [
    "### 3) Гистограммы\n"
   ]
  },
  {
   "cell_type": "code",
   "execution_count": 283,
   "metadata": {},
   "outputs": [
    {
     "name": "stdout",
     "output_type": "stream",
     "text": [
      "[0.2, 0.22999999999999998, 0.33, 0.24000000000000002]\n"
     ]
    },
    {
     "data": {
      "image/png": "[encoded data removed]",
      "text/plain": [
       "<Figure size 432x288 with 1 Axes>"
      ]
     },
     "metadata": {
      "needs_background": "light"
     },
     "output_type": "display_data"
    },
    {
     "name": "stdout",
     "output_type": "stream",
     "text": [
      "[0.30000000000000004, 0.26, 0.26, 0.18000000000000002]\n"
     ]
    },
    {
     "data": {
      "image/png": "[encoded data removed]",
      "text/plain": [
       "<Figure size 432x288 with 1 Axes>"
      ]
     },
     "metadata": {
      "needs_background": "light"
     },
     "output_type": "display_data"
    }
   ],
   "source": [
    "plt.hist(x, weights=[1/n]*n)\n",
    "plt.plot(X, p_x_sum) \n",
    "print(p_x_sum)\n",
    "plt.show()\n",
    "\n",
    "plt.hist(y, weights=[1/n]*n)\n",
    "plt.plot(Y, p_y_sum) \n",
    "print(p_y_sum)\n",
    "plt.show()"
   ]
  },
  {
   "cell_type": "code",
   "execution_count": 284,
   "metadata": {},
   "outputs": [
    {
     "data": {
      "image/png": "[encoded data removed]",
      "text/plain": [
       "<Figure size 432x288 with 1 Axes>"
      ]
     },
     "metadata": {
      "needs_background": "light"
     },
     "output_type": "display_data"
    }
   ],
   "source": [
    "fig = plt.figure()\n",
    "ax = fig.add_subplot(projection='3d')\n",
    "\n",
    "hist, xedges, yedges = np.histogram2d(x, y, bins=5, range=[[min(X), max(X)], [min(Y), max(Y)]], normed=True)\n",
    "\n",
    "xpos, ypos = np.meshgrid(xedges[:-1], yedges[:-1], indexing=\"ij\")\n",
    "xpos = xpos.ravel()\n",
    "ypos = ypos.ravel()\n",
    "zpos = 0\n",
    "\n",
    "dx = dy = 0.5 * np.ones_like(zpos)\n",
    "dz = hist.ravel()\n",
    "\n",
    "ax.bar3d(xpos, ypos, zpos, dx, dy, dz, zsort='average')\n",
    "\n",
    "plt.show()"
   ]
  },
  {
   "cell_type": "markdown",
   "metadata": {},
   "source": [
    "### 4) Характеристики"
   ]
  },
  {
   "cell_type": "code",
   "execution_count": 285,
   "metadata": {},
   "outputs": [],
   "source": [
    "def mean_dsv(X, p_sum):\n",
    "    return sum([X[i] * p_sum[i] for i in range(len(X))])\n",
    "\n",
    "def var_dsv(X, p_sum, M):\n",
    "    return sum([(X[i] ** 2) * p_sum[i] for i in range(len(X))]) - M ** 2"
   ]
  },
  {
   "cell_type": "code",
   "execution_count": 286,
   "metadata": {},
   "outputs": [
    {
     "name": "stdout",
     "output_type": "stream",
     "text": [
      "Теоретические значения МО: Mx = 2.61, My = 6.320000000000001\n",
      "Точечные значения МО: Mx = 2.6071, My = 6.3416\n",
      "\n",
      "Теоретические значения дисперсии: Dx = 1.1179000000000006,  Dy = 1.177599999999991\n",
      "Точечные значения дисперсии: Dx = 1.117929590000001 Dy = 1.180309439999995\n"
     ]
    }
   ],
   "source": [
    "Mx = mean_dsv(X, p_x_sum)\n",
    "My = mean_dsv(Y, p_y_sum)\n",
    "Mx_dot = mean_dsv(X, x_sum)\n",
    "My_dot = mean_dsv(Y, y_sum)\n",
    "\n",
    "print(f'Теоретические значения МО: Mx = {Mx}, My = {My}')\n",
    "print(f'Точечные значения МО: Mx = {Mx_dot}, My = {My_dot}')\n",
    "\n",
    "Dx = var_dsv(X, p_x_sum, Mx)\n",
    "Dy = var_dsv(Y, p_y_sum, My)\n",
    "Dx_dot = var_dsv(X, x_sum, Mx_dot)\n",
    "Dy_dot = var_dsv(Y, y_sum, My_dot)\n",
    "\n",
    "print(f'\\nТеоретические значения дисперсии: Dx = {Dx},  Dy = {Dy}')\n",
    "print(f'Точечные значения дисперсии: Dx = {Dx_dot} Dy = {Dy_dot}')"
   ]
  },
  {
   "cell_type": "code",
   "execution_count": 289,
   "metadata": {},
   "outputs": [
    {
     "name": "stdout",
     "output_type": "stream",
     "text": [
      "Теоретическое значение коэффициента корреляции -0.07425731094133826\n",
      "Точечная оценка коэффициента корреляции, -0.07763634279480924\n"
     ]
    }
   ],
   "source": [
    "Mxy = 0\n",
    "for i in range(len(X)):\n",
    "    for j in range(len(Y)):\n",
    "        Mxy += X[j] * Y[i] * P[i][j]\n",
    "\n",
    "corr = (Mxy - Mx * My) / np.sqrt(Dx * Dy)\n",
    "corr_dot = corr_coef_dot(x, y, Mx_dot, My_dot)\n",
    "\n",
    "print('Теоретическое значение коэффициента корреляции', corr)\n",
    "print(f'Точечная оценка коэффициента корреляции, {corr_dot}')"
   ]
  },
  {
   "cell_type": "code",
   "execution_count": 290,
   "metadata": {},
   "outputs": [
    {
     "name": "stdout",
     "output_type": "stream",
     "text": [
      "Доверительный интервал для Mx: (2.579732719595522, 2.6344672804044778)\n",
      "Доверительный интервал для My: (6.313808982382786, 6.369391017617214)\n"
     ]
    }
   ],
   "source": [
    "print(f'Доверительный интервал для Mx: {st.t.interval(0.99, len(x)-1, loc=Mx_dot, scale=st.sem(x))}')\n",
    "print(f'Доверительный интервал для My: {st.t.interval(0.99, len(y)-1, loc=My_dot, scale=st.sem(y))}')"
   ]
  },
  {
   "cell_type": "code",
   "execution_count": 291,
   "metadata": {},
   "outputs": [
    {
     "name": "stdout",
     "output_type": "stream",
     "text": [
      "Доверительный интервал для Dx: (1.2278705160359114, 1.3206779313340067)\n",
      "Доверительный интервал для Dy: (1.3082213741922417, 1.4071020320391912)\n"
     ]
    }
   ],
   "source": [
    "print(f'Доверительный интервал для Dx: {var_interval(x, Mx_dot, 0.99)}')\n",
    "print(f'Доверительный интервал для Dy: {var_interval(y, My_dot, 0.99)}')"
   ]
  },
  {
   "cell_type": "code",
   "execution_count": 292,
   "metadata": {},
   "outputs": [
    {
     "name": "stdout",
     "output_type": "stream",
     "text": [
      "Доверительный интервал для корреляции: (-0.03390126257214829, -0.03365084158641568)\n"
     ]
    }
   ],
   "source": [
    "print(f'Доверительный интервал для корреляции: {corr_interval(x, y, Mx_dot, My_dot, 0.99)}')"
   ]
  },
  {
   "cell_type": "code",
   "execution_count": null,
   "metadata": {},
   "outputs": [],
   "source": []
  }
 ],
 "metadata": {
  "kernelspec": {
   "display_name": "Python 3",
   "language": "python",
   "name": "python3"
  },
  "language_info": {
   "codemirror_mode": {
    "name": "ipython",
    "version": 3
   },
   "file_extension": ".py",
   "mimetype": "text/x-python",
   "name": "python",
   "nbconvert_exporter": "python",
   "pygments_lexer": "ipython3",
   "version": "3.8.5"
  }
 },
 "nbformat": 4,
 "nbformat_minor": 4
}
